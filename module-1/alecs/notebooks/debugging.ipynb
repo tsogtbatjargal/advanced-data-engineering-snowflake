{
 "cells": [
  {
   "cell_type": "code",
   "execution_count": null,
   "id": "3775908f-ca36-4846-8f38-5adca39217f2",
   "metadata": {
    "language": "sql",
    "name": "cell1"
   },
   "outputs": [],
   "source": [
    "-- Set context\n",
    "USE ROLE accountadmin;\n",
    "USE DATABASE staging_alecs_bytes;\n",
    "USE SCHEMA raw_pos;\n",
    "USE WAREHOUSE compute_wh;"
   ]
  },
  {
   "cell_type": "code",
   "execution_count": null,
   "id": "dfd78d46-46f3-40a7-be43-4ab79cf72a9f",
   "metadata": {
    "language": "sql",
    "name": "cell2"
   },
   "outputs": [],
   "source": [
    "SHOW TABLES IN staging_alecs_bytes.raw_pos;"
   ]
  }
 ],
 "metadata": {
  "kernelspec": {
   "display_name": "Streamlit Notebook",
   "name": "streamlit"
  },
  "lastEditStatus": {
   "authorEmail": "gilberto.hernandez@snowflake.com",
   "authorId": "6002244633419",
   "authorName": "GILBERTO",
   "lastEditTime": 1741667434593,
   "notebookId": "sd4b3qffhw3yzmzwpcr2",
   "sessionId": "2ad2d56d-f367-4eba-abad-28f4dc5b5f95"
  }
 },
 "nbformat": 4,
 "nbformat_minor": 5
}
